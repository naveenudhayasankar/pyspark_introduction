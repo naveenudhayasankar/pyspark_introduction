{
 "cells": [
  {
   "cell_type": "markdown",
   "metadata": {},
   "source": [
    "# Importing Pyspark"
   ]
  },
  {
   "cell_type": "markdown",
   "metadata": {},
   "source": [
    "# Importing Pyspark"
   ]
  },
  {
   "cell_type": "code",
   "execution_count": 1,
   "metadata": {},
   "outputs": [],
   "source": [
    "import pyspark"
   ]
  },
  {
   "cell_type": "code",
   "execution_count": null,
   "metadata": {},
   "outputs": [],
   "source": [
    "from pyspark.sql import SparkSession"
   ]
  },
  {
   "cell_type": "markdown",
   "metadata": {},
   "source": [
    "# Creating a Spark session"
   ]
  },
  {
   "cell_type": "code",
   "execution_count": 4,
   "metadata": {},
   "outputs": [],
   "source": [
    "spark = SparkSession.builder.appName('linear_regression').getOrCreate()"
   ]
  },
  {
   "cell_type": "code",
   "execution_count": 5,
   "metadata": {},
   "outputs": [
    {
     "data": {
      "text/html": [
       "\n",
       "            <div>\n",
       "                <p><b>SparkSession - in-memory</b></p>\n",
       "                \n",
       "        <div>\n",
       "            <p><b>SparkContext</b></p>\n",
       "\n",
       "            <p><a href=\"http://LFCN12833NS.gfoundries.com:4041\">Spark UI</a></p>\n",
       "\n",
       "            <dl>\n",
       "              <dt>Version</dt>\n",
       "                <dd><code>v3.3.0</code></dd>\n",
       "              <dt>Master</dt>\n",
       "                <dd><code>local[*]</code></dd>\n",
       "              <dt>AppName</dt>\n",
       "                <dd><code>linear_regression</code></dd>\n",
       "            </dl>\n",
       "        </div>\n",
       "        \n",
       "            </div>\n",
       "        "
      ],
      "text/plain": [
       "<pyspark.sql.session.SparkSession at 0x1a8fd0ee5f8>"
      ]
     },
     "execution_count": 5,
     "metadata": {},
     "output_type": "execute_result"
    }
   ],
   "source": [
    "spark"
   ]
  },
  {
   "cell_type": "markdown",
   "metadata": {},
   "source": [
    "# Reading the dataframe"
   ]
  },
  {
   "cell_type": "code",
   "execution_count": 6,
   "metadata": {},
   "outputs": [
    {
     "name": "stdout",
     "output_type": "stream",
     "text": [
      "+----------+----+------+------+---+------+----+\n",
      "|total_bill| tip|   sex|smoker|day|  time|size|\n",
      "+----------+----+------+------+---+------+----+\n",
      "|     16.99|1.01|Female|    No|Sun|Dinner|   2|\n",
      "|     10.34|1.66|  Male|    No|Sun|Dinner|   3|\n",
      "|     21.01| 3.5|  Male|    No|Sun|Dinner|   3|\n",
      "|     23.68|3.31|  Male|    No|Sun|Dinner|   2|\n",
      "|     24.59|3.61|Female|    No|Sun|Dinner|   4|\n",
      "|     25.29|4.71|  Male|    No|Sun|Dinner|   4|\n",
      "|      8.77| 2.0|  Male|    No|Sun|Dinner|   2|\n",
      "|     26.88|3.12|  Male|    No|Sun|Dinner|   4|\n",
      "|     15.04|1.96|  Male|    No|Sun|Dinner|   2|\n",
      "|     14.78|3.23|  Male|    No|Sun|Dinner|   2|\n",
      "|     10.27|1.71|  Male|    No|Sun|Dinner|   2|\n",
      "|     35.26| 5.0|Female|    No|Sun|Dinner|   4|\n",
      "|     15.42|1.57|  Male|    No|Sun|Dinner|   2|\n",
      "|     18.43| 3.0|  Male|    No|Sun|Dinner|   4|\n",
      "|     14.83|3.02|Female|    No|Sun|Dinner|   2|\n",
      "|     21.58|3.92|  Male|    No|Sun|Dinner|   2|\n",
      "|     10.33|1.67|Female|    No|Sun|Dinner|   3|\n",
      "|     16.29|3.71|  Male|    No|Sun|Dinner|   3|\n",
      "|     16.97| 3.5|Female|    No|Sun|Dinner|   3|\n",
      "|     20.65|3.35|  Male|    No|Sat|Dinner|   3|\n",
      "+----------+----+------+------+---+------+----+\n",
      "only showing top 20 rows\n",
      "\n"
     ]
    }
   ],
   "source": [
    "df = spark.read.csv('./tips.csv', inferSchema = True, header = True)\n",
    "df.show()"
   ]
  },
  {
   "cell_type": "code",
   "execution_count": 7,
   "metadata": {},
   "outputs": [
    {
     "name": "stdout",
     "output_type": "stream",
     "text": [
      "root\n",
      " |-- total_bill: double (nullable = true)\n",
      " |-- tip: double (nullable = true)\n",
      " |-- sex: string (nullable = true)\n",
      " |-- smoker: string (nullable = true)\n",
      " |-- day: string (nullable = true)\n",
      " |-- time: string (nullable = true)\n",
      " |-- size: integer (nullable = true)\n",
      "\n"
     ]
    }
   ],
   "source": [
    "df.printSchema()"
   ]
  },
  {
   "cell_type": "code",
   "execution_count": 8,
   "metadata": {},
   "outputs": [
    {
     "data": {
      "text/plain": [
       "['total_bill', 'tip', 'sex', 'smoker', 'day', 'time', 'size']"
      ]
     },
     "execution_count": 8,
     "metadata": {},
     "output_type": "execute_result"
    }
   ],
   "source": [
    "df.columns"
   ]
  },
  {
   "cell_type": "markdown",
   "metadata": {},
   "source": [
    "# Encoding categorical features using StringIndexer"
   ]
  },
  {
   "cell_type": "code",
   "execution_count": 9,
   "metadata": {},
   "outputs": [
    {
     "name": "stdout",
     "output_type": "stream",
     "text": [
      "+----------+----+------+------+---+------+----+-------+----------+-------+--------+\n",
      "|total_bill| tip|   sex|smoker|day|  time|size|sex_ind|smoker_ind|day_ind|time_ind|\n",
      "+----------+----+------+------+---+------+----+-------+----------+-------+--------+\n",
      "|     16.99|1.01|Female|    No|Sun|Dinner|   2|    1.0|       0.0|    1.0|     0.0|\n",
      "|     10.34|1.66|  Male|    No|Sun|Dinner|   3|    0.0|       0.0|    1.0|     0.0|\n",
      "|     21.01| 3.5|  Male|    No|Sun|Dinner|   3|    0.0|       0.0|    1.0|     0.0|\n",
      "|     23.68|3.31|  Male|    No|Sun|Dinner|   2|    0.0|       0.0|    1.0|     0.0|\n",
      "|     24.59|3.61|Female|    No|Sun|Dinner|   4|    1.0|       0.0|    1.0|     0.0|\n",
      "|     25.29|4.71|  Male|    No|Sun|Dinner|   4|    0.0|       0.0|    1.0|     0.0|\n",
      "|      8.77| 2.0|  Male|    No|Sun|Dinner|   2|    0.0|       0.0|    1.0|     0.0|\n",
      "|     26.88|3.12|  Male|    No|Sun|Dinner|   4|    0.0|       0.0|    1.0|     0.0|\n",
      "|     15.04|1.96|  Male|    No|Sun|Dinner|   2|    0.0|       0.0|    1.0|     0.0|\n",
      "|     14.78|3.23|  Male|    No|Sun|Dinner|   2|    0.0|       0.0|    1.0|     0.0|\n",
      "|     10.27|1.71|  Male|    No|Sun|Dinner|   2|    0.0|       0.0|    1.0|     0.0|\n",
      "|     35.26| 5.0|Female|    No|Sun|Dinner|   4|    1.0|       0.0|    1.0|     0.0|\n",
      "|     15.42|1.57|  Male|    No|Sun|Dinner|   2|    0.0|       0.0|    1.0|     0.0|\n",
      "|     18.43| 3.0|  Male|    No|Sun|Dinner|   4|    0.0|       0.0|    1.0|     0.0|\n",
      "|     14.83|3.02|Female|    No|Sun|Dinner|   2|    1.0|       0.0|    1.0|     0.0|\n",
      "|     21.58|3.92|  Male|    No|Sun|Dinner|   2|    0.0|       0.0|    1.0|     0.0|\n",
      "|     10.33|1.67|Female|    No|Sun|Dinner|   3|    1.0|       0.0|    1.0|     0.0|\n",
      "|     16.29|3.71|  Male|    No|Sun|Dinner|   3|    0.0|       0.0|    1.0|     0.0|\n",
      "|     16.97| 3.5|Female|    No|Sun|Dinner|   3|    1.0|       0.0|    1.0|     0.0|\n",
      "|     20.65|3.35|  Male|    No|Sat|Dinner|   3|    0.0|       0.0|    0.0|     0.0|\n",
      "+----------+----+------+------+---+------+----+-------+----------+-------+--------+\n",
      "only showing top 20 rows\n",
      "\n"
     ]
    }
   ],
   "source": [
    "from pyspark.ml.feature import StringIndexer\n",
    "transformer = StringIndexer(inputCols = ['sex', 'smoker', 'day', 'time'], \n",
    "                            outputCols = ['sex_ind', 'smoker_ind', 'day_ind', 'time_ind'], handleInvalid = 'skip').fit(df).transform(df)\n",
    "transformer.show()"
   ]
  },
  {
   "cell_type": "code",
   "execution_count": 10,
   "metadata": {},
   "outputs": [
    {
     "data": {
      "text/plain": [
       "['total_bill',\n",
       " 'tip',\n",
       " 'sex',\n",
       " 'smoker',\n",
       " 'day',\n",
       " 'time',\n",
       " 'size',\n",
       " 'sex_ind',\n",
       " 'smoker_ind',\n",
       " 'day_ind',\n",
       " 'time_ind']"
      ]
     },
     "execution_count": 10,
     "metadata": {},
     "output_type": "execute_result"
    }
   ],
   "source": [
    "transformer.columns"
   ]
  },
  {
   "cell_type": "markdown",
   "metadata": {},
   "source": [
    "# Creating a column of independent features"
   ]
  },
  {
   "cell_type": "code",
   "execution_count": 11,
   "metadata": {},
   "outputs": [
    {
     "name": "stdout",
     "output_type": "stream",
     "text": [
      "+----------+----+------+------+---+------+----+-------+----------+-------+--------+--------------------+\n",
      "|total_bill| tip|   sex|smoker|day|  time|size|sex_ind|smoker_ind|day_ind|time_ind|               indep|\n",
      "+----------+----+------+------+---+------+----+-------+----------+-------+--------+--------------------+\n",
      "|     16.99|1.01|Female|    No|Sun|Dinner|   2|    1.0|       0.0|    1.0|     0.0|[16.99,1.0,0.0,1....|\n",
      "|     10.34|1.66|  Male|    No|Sun|Dinner|   3|    0.0|       0.0|    1.0|     0.0|[10.34,0.0,0.0,1....|\n",
      "|     21.01| 3.5|  Male|    No|Sun|Dinner|   3|    0.0|       0.0|    1.0|     0.0|[21.01,0.0,0.0,1....|\n",
      "|     23.68|3.31|  Male|    No|Sun|Dinner|   2|    0.0|       0.0|    1.0|     0.0|[23.68,0.0,0.0,1....|\n",
      "|     24.59|3.61|Female|    No|Sun|Dinner|   4|    1.0|       0.0|    1.0|     0.0|[24.59,1.0,0.0,1....|\n",
      "|     25.29|4.71|  Male|    No|Sun|Dinner|   4|    0.0|       0.0|    1.0|     0.0|[25.29,0.0,0.0,1....|\n",
      "|      8.77| 2.0|  Male|    No|Sun|Dinner|   2|    0.0|       0.0|    1.0|     0.0|[8.77,0.0,0.0,1.0...|\n",
      "|     26.88|3.12|  Male|    No|Sun|Dinner|   4|    0.0|       0.0|    1.0|     0.0|[26.88,0.0,0.0,1....|\n",
      "|     15.04|1.96|  Male|    No|Sun|Dinner|   2|    0.0|       0.0|    1.0|     0.0|[15.04,0.0,0.0,1....|\n",
      "|     14.78|3.23|  Male|    No|Sun|Dinner|   2|    0.0|       0.0|    1.0|     0.0|[14.78,0.0,0.0,1....|\n",
      "|     10.27|1.71|  Male|    No|Sun|Dinner|   2|    0.0|       0.0|    1.0|     0.0|[10.27,0.0,0.0,1....|\n",
      "|     35.26| 5.0|Female|    No|Sun|Dinner|   4|    1.0|       0.0|    1.0|     0.0|[35.26,1.0,0.0,1....|\n",
      "|     15.42|1.57|  Male|    No|Sun|Dinner|   2|    0.0|       0.0|    1.0|     0.0|[15.42,0.0,0.0,1....|\n",
      "|     18.43| 3.0|  Male|    No|Sun|Dinner|   4|    0.0|       0.0|    1.0|     0.0|[18.43,0.0,0.0,1....|\n",
      "|     14.83|3.02|Female|    No|Sun|Dinner|   2|    1.0|       0.0|    1.0|     0.0|[14.83,1.0,0.0,1....|\n",
      "|     21.58|3.92|  Male|    No|Sun|Dinner|   2|    0.0|       0.0|    1.0|     0.0|[21.58,0.0,0.0,1....|\n",
      "|     10.33|1.67|Female|    No|Sun|Dinner|   3|    1.0|       0.0|    1.0|     0.0|[10.33,1.0,0.0,1....|\n",
      "|     16.29|3.71|  Male|    No|Sun|Dinner|   3|    0.0|       0.0|    1.0|     0.0|[16.29,0.0,0.0,1....|\n",
      "|     16.97| 3.5|Female|    No|Sun|Dinner|   3|    1.0|       0.0|    1.0|     0.0|[16.97,1.0,0.0,1....|\n",
      "|     20.65|3.35|  Male|    No|Sat|Dinner|   3|    0.0|       0.0|    0.0|     0.0|(6,[0,5],[20.65,3...|\n",
      "+----------+----+------+------+---+------+----+-------+----------+-------+--------+--------------------+\n",
      "only showing top 20 rows\n",
      "\n"
     ]
    }
   ],
   "source": [
    "from pyspark.ml.feature import VectorAssembler\n",
    "assembler = VectorAssembler(inputCols = ['total_bill', 'sex_ind', 'smoker_ind', 'day_ind', 'time_ind', 'size'], \n",
    "                            outputCol = 'indep').transform(transformer)\n",
    "assembler.show()"
   ]
  },
  {
   "cell_type": "code",
   "execution_count": 14,
   "metadata": {},
   "outputs": [
    {
     "name": "stdout",
     "output_type": "stream",
     "text": [
      "+----+--------------------+\n",
      "| tip|               indep|\n",
      "+----+--------------------+\n",
      "|1.01|[16.99,1.0,0.0,1....|\n",
      "|1.66|[10.34,0.0,0.0,1....|\n",
      "| 3.5|[21.01,0.0,0.0,1....|\n",
      "|3.31|[23.68,0.0,0.0,1....|\n",
      "|3.61|[24.59,1.0,0.0,1....|\n",
      "|4.71|[25.29,0.0,0.0,1....|\n",
      "| 2.0|[8.77,0.0,0.0,1.0...|\n",
      "|3.12|[26.88,0.0,0.0,1....|\n",
      "|1.96|[15.04,0.0,0.0,1....|\n",
      "|3.23|[14.78,0.0,0.0,1....|\n",
      "|1.71|[10.27,0.0,0.0,1....|\n",
      "| 5.0|[35.26,1.0,0.0,1....|\n",
      "|1.57|[15.42,0.0,0.0,1....|\n",
      "| 3.0|[18.43,0.0,0.0,1....|\n",
      "|3.02|[14.83,1.0,0.0,1....|\n",
      "|3.92|[21.58,0.0,0.0,1....|\n",
      "|1.67|[10.33,1.0,0.0,1....|\n",
      "|3.71|[16.29,0.0,0.0,1....|\n",
      "| 3.5|[16.97,1.0,0.0,1....|\n",
      "|3.35|(6,[0,5],[20.65,3...|\n",
      "+----+--------------------+\n",
      "only showing top 20 rows\n",
      "\n"
     ]
    }
   ],
   "source": [
    "df_final = assembler.select(['tip', 'indep'])\n",
    "df_final.show()"
   ]
  },
  {
   "cell_type": "markdown",
   "metadata": {},
   "source": [
    "# Performing linear regression"
   ]
  },
  {
   "cell_type": "code",
   "execution_count": 16,
   "metadata": {},
   "outputs": [],
   "source": [
    "from pyspark.ml.regression import LinearRegression\n",
    "train_data, test_data = df_final.randomSplit([0.75, 0.25])\n",
    "model = LinearRegression(featuresCol = 'indep', labelCol = 'tip').fit(train_data)"
   ]
  },
  {
   "cell_type": "code",
   "execution_count": 17,
   "metadata": {},
   "outputs": [
    {
     "data": {
      "text/plain": [
       "DenseVector([0.0886, 0.023, 0.0283, 0.0375, -0.0372, 0.1959])"
      ]
     },
     "execution_count": 17,
     "metadata": {},
     "output_type": "execute_result"
    }
   ],
   "source": [
    "model.coefficients"
   ]
  },
  {
   "cell_type": "code",
   "execution_count": 18,
   "metadata": {},
   "outputs": [
    {
     "data": {
      "text/plain": [
       "0.6842383838747881"
      ]
     },
     "execution_count": 18,
     "metadata": {},
     "output_type": "execute_result"
    }
   ],
   "source": [
    "model.intercept"
   ]
  },
  {
   "cell_type": "code",
   "execution_count": 19,
   "metadata": {},
   "outputs": [],
   "source": [
    "preds = model.evaluate(test_data)"
   ]
  },
  {
   "cell_type": "code",
   "execution_count": 21,
   "metadata": {},
   "outputs": [
    {
     "name": "stdout",
     "output_type": "stream",
     "text": [
      "+----+--------------------+------------------+\n",
      "| tip|               indep|        prediction|\n",
      "+----+--------------------+------------------+\n",
      "| 1.0|[3.07,1.0,1.0,0.0...|1.2035825967683045|\n",
      "|1.25|(6,[0,5],[10.51,2...|2.0077429634378663|\n",
      "|1.32|[9.68,0.0,0.0,1.0...|1.9717075462497455|\n",
      "|1.44|[7.74,0.0,1.0,0.0...| 1.790482506375319|\n",
      "|1.45|(6,[0,5],[9.55,2.0])|1.9226463696854919|\n",
      "|1.48|[8.52,0.0,0.0,2.0...| 1.869176429111954|\n",
      "| 1.5|[10.65,1.0,0.0,2....| 2.080981139856706|\n",
      "| 1.5|[12.03,0.0,1.0,3....|2.2833709481871014|\n",
      "|1.63|[11.87,1.0,0.0,2....| 2.189124727750349|\n",
      "|1.67|[10.33,1.0,0.0,1....|2.2482587562320346|\n",
      "|1.75|(6,[0,5],[17.82,2...| 2.655718067948135|\n",
      "| 1.8|[12.43,1.0,0.0,2....| 2.238764407439234|\n",
      "| 2.0|(6,[0,5],[16.31,3...|2.7178052986309096|\n",
      "| 2.0|[10.63,1.0,1.0,0....| 2.069655353840701|\n",
      "| 2.0|[12.26,1.0,0.0,2....| 2.223695218962251|\n",
      "| 2.0|[13.81,0.0,0.0,1....|2.3378001839552733|\n",
      "| 2.0|[16.0,0.0,1.0,2.0...| 2.560499394926322|\n",
      "| 2.0|[16.21,1.0,0.0,1....| 2.769475392965329|\n",
      "| 2.0|[30.06,0.0,1.0,0....| 3.964915392390474|\n",
      "| 2.0|[30.46,0.0,1.0,1....| 4.429784148492477|\n",
      "+----+--------------------+------------------+\n",
      "only showing top 20 rows\n",
      "\n"
     ]
    }
   ],
   "source": [
    "preds.predictions.show()"
   ]
  },
  {
   "cell_type": "code",
   "execution_count": 22,
   "metadata": {},
   "outputs": [
    {
     "data": {
      "text/plain": [
       "0.798571485237905"
      ]
     },
     "execution_count": 22,
     "metadata": {},
     "output_type": "execute_result"
    }
   ],
   "source": [
    "preds.meanAbsoluteError"
   ]
  },
  {
   "cell_type": "code",
   "execution_count": 23,
   "metadata": {},
   "outputs": [
    {
     "data": {
      "text/plain": [
       "1.1075997917294056"
      ]
     },
     "execution_count": 23,
     "metadata": {},
     "output_type": "execute_result"
    }
   ],
   "source": [
    "preds.meanSquaredError"
   ]
  },
  {
   "cell_type": "code",
   "execution_count": 26,
   "metadata": {},
   "outputs": [
    {
     "data": {
      "text/plain": [
       "0.43496314308473716"
      ]
     },
     "execution_count": 26,
     "metadata": {},
     "output_type": "execute_result"
    }
   ],
   "source": [
    "model.summary.r2"
   ]
  },
  {
   "cell_type": "code",
   "execution_count": 27,
   "metadata": {},
   "outputs": [
    {
     "data": {
      "text/plain": [
       "0.5462250311434271"
      ]
     },
     "execution_count": 27,
     "metadata": {},
     "output_type": "execute_result"
    }
   ],
   "source": [
    "preds.r2"
   ]
  },
  {
   "cell_type": "code",
   "execution_count": null,
   "metadata": {},
   "outputs": [],
   "source": []
  }
 ],
 "metadata": {
  "kernelspec": {
   "display_name": "Python 3",
   "language": "python",
   "name": "python3"
  },
  "language_info": {
   "codemirror_mode": {
    "name": "ipython",
    "version": 3
   },
   "file_extension": ".py",
   "mimetype": "text/x-python",
   "name": "python",
   "nbconvert_exporter": "python",
   "pygments_lexer": "ipython3",
   "version": "3.7.3"
  }
 },
 "nbformat": 4,
 "nbformat_minor": 2
}
