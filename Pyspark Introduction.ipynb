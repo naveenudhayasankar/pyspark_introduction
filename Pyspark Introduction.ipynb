{
 "cells": [
  {
   "cell_type": "markdown",
   "metadata": {},
   "source": [
    "# Installing Pyspark"
   ]
  },
  {
   "cell_type": "code",
   "execution_count": 1,
   "metadata": {},
   "outputs": [
    {
     "name": "stdout",
     "output_type": "stream",
     "text": [
      "Requirement already satisfied: pyspark in c:\\gfapps\\anaconda\\v3\\lib\\site-packages (3.3.0)\n",
      "Requirement already satisfied: py4j==0.10.9.5 in c:\\gfapps\\anaconda\\v3\\lib\\site-packages (from pyspark) (0.10.9.5)\n"
     ]
    }
   ],
   "source": [
    "!pip install pyspark"
   ]
  },
  {
   "cell_type": "markdown",
   "metadata": {},
   "source": [
    "# Importing Pyspark"
   ]
  },
  {
   "cell_type": "code",
   "execution_count": 2,
   "metadata": {},
   "outputs": [],
   "source": [
    "import pyspark"
   ]
  },
  {
   "cell_type": "code",
   "execution_count": 3,
   "metadata": {},
   "outputs": [
    {
     "data": {
      "text/plain": [
       "{'encoding': 'ISO-8859-1', 'confidence': 0.7293639268080162, 'language': ''}"
      ]
     },
     "execution_count": 3,
     "metadata": {},
     "output_type": "execute_result"
    }
   ],
   "source": [
    "import chardet\n",
    "with open('metal_bands_2017.csv', 'rb') as rawdata:\n",
    "    result = chardet.detect(rawdata.read(100000))\n",
    "result"
   ]
  },
  {
   "cell_type": "code",
   "execution_count": 4,
   "metadata": {},
   "outputs": [
    {
     "name": "stderr",
     "output_type": "stream",
     "text": [
      "C:\\GFApps\\Anaconda\\V3\\lib\\importlib\\_bootstrap.py:219: RuntimeWarning: numpy.ufunc size changed, may indicate binary incompatibility. Expected 192 from C header, got 216 from PyObject\n",
      "  return f(*args, **kwds)\n",
      "C:\\GFApps\\Anaconda\\V3\\lib\\importlib\\_bootstrap.py:219: RuntimeWarning: numpy.ufunc size changed, may indicate binary incompatibility. Expected 192 from C header, got 216 from PyObject\n",
      "  return f(*args, **kwds)\n"
     ]
    },
    {
     "data": {
      "text/html": [
       "<div>\n",
       "<style scoped>\n",
       "    .dataframe tbody tr th:only-of-type {\n",
       "        vertical-align: middle;\n",
       "    }\n",
       "\n",
       "    .dataframe tbody tr th {\n",
       "        vertical-align: top;\n",
       "    }\n",
       "\n",
       "    .dataframe thead th {\n",
       "        text-align: right;\n",
       "    }\n",
       "</style>\n",
       "<table border=\"1\" class=\"dataframe\">\n",
       "  <thead>\n",
       "    <tr style=\"text-align: right;\">\n",
       "      <th></th>\n",
       "      <th>band_name</th>\n",
       "      <th>fans</th>\n",
       "      <th>formed</th>\n",
       "      <th>origin</th>\n",
       "      <th>split</th>\n",
       "      <th>style</th>\n",
       "    </tr>\n",
       "  </thead>\n",
       "  <tbody>\n",
       "    <tr>\n",
       "      <th>0</th>\n",
       "      <td>Iron Maiden</td>\n",
       "      <td>4195</td>\n",
       "      <td>1975.0</td>\n",
       "      <td>United Kingdom</td>\n",
       "      <td>NaN</td>\n",
       "      <td>New wave of british heavy,Heavy</td>\n",
       "    </tr>\n",
       "    <tr>\n",
       "      <th>1</th>\n",
       "      <td>Opeth</td>\n",
       "      <td>4147</td>\n",
       "      <td>1990.0</td>\n",
       "      <td>Sweden</td>\n",
       "      <td>1990.0</td>\n",
       "      <td>Extreme progressive,Progressive rock,Progressive</td>\n",
       "    </tr>\n",
       "    <tr>\n",
       "      <th>2</th>\n",
       "      <td>Metallica</td>\n",
       "      <td>3712</td>\n",
       "      <td>1981.0</td>\n",
       "      <td>USA</td>\n",
       "      <td>NaN</td>\n",
       "      <td>Heavy,Bay area thrash</td>\n",
       "    </tr>\n",
       "    <tr>\n",
       "      <th>3</th>\n",
       "      <td>Megadeth</td>\n",
       "      <td>3105</td>\n",
       "      <td>1983.0</td>\n",
       "      <td>USA</td>\n",
       "      <td>1983.0</td>\n",
       "      <td>Thrash,Heavy,Hard rock</td>\n",
       "    </tr>\n",
       "    <tr>\n",
       "      <th>4</th>\n",
       "      <td>Amon Amarth</td>\n",
       "      <td>3054</td>\n",
       "      <td>1988.0</td>\n",
       "      <td>Sweden</td>\n",
       "      <td>NaN</td>\n",
       "      <td>Melodic death</td>\n",
       "    </tr>\n",
       "    <tr>\n",
       "      <th>5</th>\n",
       "      <td>Slayer</td>\n",
       "      <td>2955</td>\n",
       "      <td>1981.0</td>\n",
       "      <td>USA</td>\n",
       "      <td>1981.0</td>\n",
       "      <td>Thrash</td>\n",
       "    </tr>\n",
       "    <tr>\n",
       "      <th>6</th>\n",
       "      <td>Death</td>\n",
       "      <td>2690</td>\n",
       "      <td>1983.0</td>\n",
       "      <td>USA</td>\n",
       "      <td>2001.0</td>\n",
       "      <td>Progressive death,Death,Progressive thrash</td>\n",
       "    </tr>\n",
       "    <tr>\n",
       "      <th>7</th>\n",
       "      <td>Dream Theater</td>\n",
       "      <td>2329</td>\n",
       "      <td>1985.0</td>\n",
       "      <td>USA</td>\n",
       "      <td>1985.0</td>\n",
       "      <td>Progressive</td>\n",
       "    </tr>\n",
       "    <tr>\n",
       "      <th>8</th>\n",
       "      <td>Black Sabbath</td>\n",
       "      <td>2307</td>\n",
       "      <td>1968.0</td>\n",
       "      <td>United Kingdom</td>\n",
       "      <td>NaN</td>\n",
       "      <td>Doom,Heavy,Hard rock</td>\n",
       "    </tr>\n",
       "    <tr>\n",
       "      <th>9</th>\n",
       "      <td>Nightwish</td>\n",
       "      <td>2183</td>\n",
       "      <td>1996.0</td>\n",
       "      <td>Finland</td>\n",
       "      <td>1996.0</td>\n",
       "      <td>Symphonic power,Gothic,Symphonic</td>\n",
       "    </tr>\n",
       "    <tr>\n",
       "      <th>10</th>\n",
       "      <td>Children Of Bodom</td>\n",
       "      <td>2153</td>\n",
       "      <td>1993.0</td>\n",
       "      <td>Finland</td>\n",
       "      <td>NaN</td>\n",
       "      <td>Extreme power</td>\n",
       "    </tr>\n",
       "    <tr>\n",
       "      <th>11</th>\n",
       "      <td>Judas Priest</td>\n",
       "      <td>2094</td>\n",
       "      <td>1969.0</td>\n",
       "      <td>United Kingdom</td>\n",
       "      <td>1969.0</td>\n",
       "      <td>Heavy,Hard rock</td>\n",
       "    </tr>\n",
       "    <tr>\n",
       "      <th>12</th>\n",
       "      <td>Blind Guardian</td>\n",
       "      <td>2040</td>\n",
       "      <td>1984.0</td>\n",
       "      <td>Germany</td>\n",
       "      <td>NaN</td>\n",
       "      <td>Power,Speed</td>\n",
       "    </tr>\n",
       "    <tr>\n",
       "      <th>13</th>\n",
       "      <td>In Flames</td>\n",
       "      <td>1932</td>\n",
       "      <td>1990.0</td>\n",
       "      <td>Sweden</td>\n",
       "      <td>1990.0</td>\n",
       "      <td>Gothenburg,Alternative</td>\n",
       "    </tr>\n",
       "    <tr>\n",
       "      <th>14</th>\n",
       "      <td>Pantera</td>\n",
       "      <td>1920</td>\n",
       "      <td>1981.0</td>\n",
       "      <td>USA</td>\n",
       "      <td>2003.0</td>\n",
       "      <td>Heavy,Groove thrash,Groove metal</td>\n",
       "    </tr>\n",
       "    <tr>\n",
       "      <th>15</th>\n",
       "      <td>Dark Tranquillity</td>\n",
       "      <td>1898</td>\n",
       "      <td>1989.0</td>\n",
       "      <td>Sweden</td>\n",
       "      <td>1989.0</td>\n",
       "      <td>Gothenburg</td>\n",
       "    </tr>\n",
       "    <tr>\n",
       "      <th>16</th>\n",
       "      <td>Agalloch</td>\n",
       "      <td>1881</td>\n",
       "      <td>1995.0</td>\n",
       "      <td>USA</td>\n",
       "      <td>2016.0</td>\n",
       "      <td>Atmospheric black,Neofolk</td>\n",
       "    </tr>\n",
       "    <tr>\n",
       "      <th>17</th>\n",
       "      <td>Ensiferum</td>\n",
       "      <td>1879</td>\n",
       "      <td>1995.0</td>\n",
       "      <td>Finland</td>\n",
       "      <td>1995.0</td>\n",
       "      <td>Extreme folk</td>\n",
       "    </tr>\n",
       "    <tr>\n",
       "      <th>18</th>\n",
       "      <td>Arch Enemy</td>\n",
       "      <td>1750</td>\n",
       "      <td>1996.0</td>\n",
       "      <td>Sweden</td>\n",
       "      <td>NaN</td>\n",
       "      <td>Gothenburg</td>\n",
       "    </tr>\n",
       "    <tr>\n",
       "      <th>19</th>\n",
       "      <td>Katatonia</td>\n",
       "      <td>1735</td>\n",
       "      <td>1991.0</td>\n",
       "      <td>Sweden</td>\n",
       "      <td>1991.0</td>\n",
       "      <td>Blackened doom,Death doom,Alternative rock,Got...</td>\n",
       "    </tr>\n",
       "    <tr>\n",
       "      <th>20</th>\n",
       "      <td>Behemoth</td>\n",
       "      <td>1721</td>\n",
       "      <td>1991.0</td>\n",
       "      <td>Poland</td>\n",
       "      <td>NaN</td>\n",
       "      <td>Death,Black,Blackened death</td>\n",
       "    </tr>\n",
       "    <tr>\n",
       "      <th>21</th>\n",
       "      <td>Dimmu Borgir</td>\n",
       "      <td>1688</td>\n",
       "      <td>1993.0</td>\n",
       "      <td>Norway</td>\n",
       "      <td>1993.0</td>\n",
       "      <td>Symphonic black,Black</td>\n",
       "    </tr>\n",
       "    <tr>\n",
       "      <th>22</th>\n",
       "      <td>Kreator</td>\n",
       "      <td>1646</td>\n",
       "      <td>1982.0</td>\n",
       "      <td>Germany</td>\n",
       "      <td>NaN</td>\n",
       "      <td>Teutonic thrash</td>\n",
       "    </tr>\n",
       "    <tr>\n",
       "      <th>23</th>\n",
       "      <td>Wintersun</td>\n",
       "      <td>1640</td>\n",
       "      <td>2004.0</td>\n",
       "      <td>Finland</td>\n",
       "      <td>2004.0</td>\n",
       "      <td>Extreme power</td>\n",
       "    </tr>\n",
       "    <tr>\n",
       "      <th>24</th>\n",
       "      <td>Insomnium</td>\n",
       "      <td>1547</td>\n",
       "      <td>1997.0</td>\n",
       "      <td>Finland</td>\n",
       "      <td>NaN</td>\n",
       "      <td>Melodic death</td>\n",
       "    </tr>\n",
       "    <tr>\n",
       "      <th>25</th>\n",
       "      <td>Amorphis</td>\n",
       "      <td>1528</td>\n",
       "      <td>1990.0</td>\n",
       "      <td>Finland</td>\n",
       "      <td>1990.0</td>\n",
       "      <td>Death,Melodic death,Folk,Progressive</td>\n",
       "    </tr>\n",
       "    <tr>\n",
       "      <th>26</th>\n",
       "      <td>Kamelot</td>\n",
       "      <td>1520</td>\n",
       "      <td>1991.0</td>\n",
       "      <td>USA</td>\n",
       "      <td>NaN</td>\n",
       "      <td>Symphonic power</td>\n",
       "    </tr>\n",
       "    <tr>\n",
       "      <th>27</th>\n",
       "      <td>Tool</td>\n",
       "      <td>1506</td>\n",
       "      <td>1988.0</td>\n",
       "      <td>USA</td>\n",
       "      <td>1988.0</td>\n",
       "      <td>Progressive,Alternative</td>\n",
       "    </tr>\n",
       "    <tr>\n",
       "      <th>28</th>\n",
       "      <td>Helloween</td>\n",
       "      <td>1501</td>\n",
       "      <td>1978.0</td>\n",
       "      <td>Germany</td>\n",
       "      <td>NaN</td>\n",
       "      <td>Speed,Power</td>\n",
       "    </tr>\n",
       "    <tr>\n",
       "      <th>29</th>\n",
       "      <td>Testament</td>\n",
       "      <td>1500</td>\n",
       "      <td>1983.0</td>\n",
       "      <td>USA</td>\n",
       "      <td>1983.0</td>\n",
       "      <td>Bay area thrash</td>\n",
       "    </tr>\n",
       "    <tr>\n",
       "      <th>...</th>\n",
       "      <td>...</td>\n",
       "      <td>...</td>\n",
       "      <td>...</td>\n",
       "      <td>...</td>\n",
       "      <td>...</td>\n",
       "      <td>...</td>\n",
       "    </tr>\n",
       "    <tr>\n",
       "      <th>4970</th>\n",
       "      <td>Your Chance To Die</td>\n",
       "      <td>1</td>\n",
       "      <td>2007.0</td>\n",
       "      <td>USA</td>\n",
       "      <td>NaN</td>\n",
       "      <td>Melodic death,Metalcore</td>\n",
       "    </tr>\n",
       "    <tr>\n",
       "      <th>4971</th>\n",
       "      <td>Your Tomorrow Alone</td>\n",
       "      <td>1</td>\n",
       "      <td>2009.0</td>\n",
       "      <td>Italy</td>\n",
       "      <td>2009.0</td>\n",
       "      <td>Progressive doom,Gothic</td>\n",
       "    </tr>\n",
       "    <tr>\n",
       "      <th>4972</th>\n",
       "      <td>?rec</td>\n",
       "      <td>1</td>\n",
       "      <td>2004.0</td>\n",
       "      <td>Czech Republic</td>\n",
       "      <td>NaN</td>\n",
       "      <td>Pagan folk</td>\n",
       "    </tr>\n",
       "    <tr>\n",
       "      <th>4973</th>\n",
       "      <td>Ömheten</td>\n",
       "      <td>0</td>\n",
       "      <td>2012.0</td>\n",
       "      <td>Sweden</td>\n",
       "      <td>2012.0</td>\n",
       "      <td>Depressive black</td>\n",
       "    </tr>\n",
       "    <tr>\n",
       "      <th>4974</th>\n",
       "      <td>(In)Trance</td>\n",
       "      <td>0</td>\n",
       "      <td>2009.0</td>\n",
       "      <td>Russia</td>\n",
       "      <td>NaN</td>\n",
       "      <td>Gothic</td>\n",
       "    </tr>\n",
       "    <tr>\n",
       "      <th>4975</th>\n",
       "      <td>6th Dimension</td>\n",
       "      <td>0</td>\n",
       "      <td>2008.0</td>\n",
       "      <td>Cyprus</td>\n",
       "      <td>2008.0</td>\n",
       "      <td>Alternative,Progressive</td>\n",
       "    </tr>\n",
       "    <tr>\n",
       "      <th>4976</th>\n",
       "      <td>9.7 Richter</td>\n",
       "      <td>0</td>\n",
       "      <td>2006.0</td>\n",
       "      <td>Romania</td>\n",
       "      <td>NaN</td>\n",
       "      <td>Heavy</td>\n",
       "    </tr>\n",
       "    <tr>\n",
       "      <th>4977</th>\n",
       "      <td>A Lower Deep</td>\n",
       "      <td>0</td>\n",
       "      <td>2000.0</td>\n",
       "      <td>USA</td>\n",
       "      <td>2000.0</td>\n",
       "      <td>Progressive,Thrash,Power</td>\n",
       "    </tr>\n",
       "    <tr>\n",
       "      <th>4978</th>\n",
       "      <td>Absence Of The Sacred</td>\n",
       "      <td>0</td>\n",
       "      <td>2005.0</td>\n",
       "      <td>Singapore</td>\n",
       "      <td>NaN</td>\n",
       "      <td>Progressive death,Thrash</td>\n",
       "    </tr>\n",
       "    <tr>\n",
       "      <th>4979</th>\n",
       "      <td>Ace Of Hearts</td>\n",
       "      <td>0</td>\n",
       "      <td>2008.0</td>\n",
       "      <td>United Kingdom</td>\n",
       "      <td>2008.0</td>\n",
       "      <td>Gothic,Hard rock</td>\n",
       "    </tr>\n",
       "    <tr>\n",
       "      <th>4980</th>\n",
       "      <td>Aeturnus Dominion</td>\n",
       "      <td>0</td>\n",
       "      <td>2003.0</td>\n",
       "      <td>Australia</td>\n",
       "      <td>NaN</td>\n",
       "      <td>Death</td>\n",
       "    </tr>\n",
       "    <tr>\n",
       "      <th>4981</th>\n",
       "      <td>Algy Ward's Tank</td>\n",
       "      <td>0</td>\n",
       "      <td>2007.0</td>\n",
       "      <td>United Kingdom</td>\n",
       "      <td>2007.0</td>\n",
       "      <td>Heavy</td>\n",
       "    </tr>\n",
       "    <tr>\n",
       "      <th>4982</th>\n",
       "      <td>Altars Of Grief</td>\n",
       "      <td>0</td>\n",
       "      <td>2013.0</td>\n",
       "      <td>Canada</td>\n",
       "      <td>NaN</td>\n",
       "      <td>Funeral doom,Death doom,Atmospheric doom</td>\n",
       "    </tr>\n",
       "    <tr>\n",
       "      <th>4983</th>\n",
       "      <td>Anatomia</td>\n",
       "      <td>0</td>\n",
       "      <td>2002.0</td>\n",
       "      <td>Japan</td>\n",
       "      <td>2002.0</td>\n",
       "      <td>Death,Doom</td>\n",
       "    </tr>\n",
       "    <tr>\n",
       "      <th>4984</th>\n",
       "      <td>Anger As Art</td>\n",
       "      <td>0</td>\n",
       "      <td>2004.0</td>\n",
       "      <td>USA</td>\n",
       "      <td>NaN</td>\n",
       "      <td>Thrash</td>\n",
       "    </tr>\n",
       "    <tr>\n",
       "      <th>4985</th>\n",
       "      <td>Angist</td>\n",
       "      <td>0</td>\n",
       "      <td>2009.0</td>\n",
       "      <td>Iceland</td>\n",
       "      <td>2009.0</td>\n",
       "      <td>Death</td>\n",
       "    </tr>\n",
       "    <tr>\n",
       "      <th>4986</th>\n",
       "      <td>Anmod</td>\n",
       "      <td>0</td>\n",
       "      <td>2005.0</td>\n",
       "      <td>Brazil</td>\n",
       "      <td>NaN</td>\n",
       "      <td>Brutal death</td>\n",
       "    </tr>\n",
       "    <tr>\n",
       "      <th>4987</th>\n",
       "      <td>Apokalyptic Raids</td>\n",
       "      <td>0</td>\n",
       "      <td>1997.0</td>\n",
       "      <td>Brazil</td>\n",
       "      <td>1997.0</td>\n",
       "      <td>Black</td>\n",
       "    </tr>\n",
       "    <tr>\n",
       "      <th>4988</th>\n",
       "      <td>Apothesary</td>\n",
       "      <td>0</td>\n",
       "      <td>2009.0</td>\n",
       "      <td>USA</td>\n",
       "      <td>NaN</td>\n",
       "      <td>Thrash,Melodic death</td>\n",
       "    </tr>\n",
       "    <tr>\n",
       "      <th>4989</th>\n",
       "      <td>Apparatus</td>\n",
       "      <td>0</td>\n",
       "      <td>2012.0</td>\n",
       "      <td>Denmark</td>\n",
       "      <td>2012.0</td>\n",
       "      <td>Blackened death</td>\n",
       "    </tr>\n",
       "    <tr>\n",
       "      <th>4990</th>\n",
       "      <td>Arctic Spirits</td>\n",
       "      <td>0</td>\n",
       "      <td>2003.0</td>\n",
       "      <td>Greenland</td>\n",
       "      <td>NaN</td>\n",
       "      <td>Heavy,Hard rock</td>\n",
       "    </tr>\n",
       "    <tr>\n",
       "      <th>4991</th>\n",
       "      <td>Argus (Ro)</td>\n",
       "      <td>0</td>\n",
       "      <td>1996.0</td>\n",
       "      <td>Romania</td>\n",
       "      <td>1996.0</td>\n",
       "      <td>Black</td>\n",
       "    </tr>\n",
       "    <tr>\n",
       "      <th>4992</th>\n",
       "      <td>Arrest</td>\n",
       "      <td>0</td>\n",
       "      <td>1992.0</td>\n",
       "      <td>Germany</td>\n",
       "      <td>NaN</td>\n",
       "      <td>Hard rock,Heavy</td>\n",
       "    </tr>\n",
       "    <tr>\n",
       "      <th>4993</th>\n",
       "      <td>As I Lay Dying (AUT)</td>\n",
       "      <td>0</td>\n",
       "      <td>1991.0</td>\n",
       "      <td>Austria</td>\n",
       "      <td>1991.0</td>\n",
       "      <td>Death,Melodic doom</td>\n",
       "    </tr>\n",
       "    <tr>\n",
       "      <th>4994</th>\n",
       "      <td>Asofy</td>\n",
       "      <td>0</td>\n",
       "      <td>2000.0</td>\n",
       "      <td>Italy</td>\n",
       "      <td>NaN</td>\n",
       "      <td>Black,Doom</td>\n",
       "    </tr>\n",
       "    <tr>\n",
       "      <th>4995</th>\n",
       "      <td>Atara</td>\n",
       "      <td>0</td>\n",
       "      <td>2006.0</td>\n",
       "      <td>France</td>\n",
       "      <td>2006.0</td>\n",
       "      <td>Black,Grindcore</td>\n",
       "    </tr>\n",
       "    <tr>\n",
       "      <th>4996</th>\n",
       "      <td>Avicularia</td>\n",
       "      <td>0</td>\n",
       "      <td>2003.0</td>\n",
       "      <td>Croatia</td>\n",
       "      <td>NaN</td>\n",
       "      <td>Avantgarde death</td>\n",
       "    </tr>\n",
       "    <tr>\n",
       "      <th>4997</th>\n",
       "      <td>Awake</td>\n",
       "      <td>0</td>\n",
       "      <td>2006.0</td>\n",
       "      <td>United Kingdom</td>\n",
       "      <td>2006.0</td>\n",
       "      <td>Heavy,Progressive</td>\n",
       "    </tr>\n",
       "    <tr>\n",
       "      <th>4998</th>\n",
       "      <td>Axatak</td>\n",
       "      <td>0</td>\n",
       "      <td>1983.0</td>\n",
       "      <td>Australia</td>\n",
       "      <td>1988.0</td>\n",
       "      <td>Hard rock,Heavy</td>\n",
       "    </tr>\n",
       "    <tr>\n",
       "      <th>4999</th>\n",
       "      <td>Axis Of Despair</td>\n",
       "      <td>0</td>\n",
       "      <td>2014.0</td>\n",
       "      <td>Sweden</td>\n",
       "      <td>2014.0</td>\n",
       "      <td>Grindcore</td>\n",
       "    </tr>\n",
       "  </tbody>\n",
       "</table>\n",
       "<p>5000 rows × 6 columns</p>\n",
       "</div>"
      ],
      "text/plain": [
       "                  band_name  fans  formed          origin   split  \\\n",
       "0               Iron Maiden  4195  1975.0  United Kingdom     NaN   \n",
       "1                     Opeth  4147  1990.0          Sweden  1990.0   \n",
       "2                 Metallica  3712  1981.0             USA     NaN   \n",
       "3                  Megadeth  3105  1983.0             USA  1983.0   \n",
       "4               Amon Amarth  3054  1988.0          Sweden     NaN   \n",
       "5                    Slayer  2955  1981.0             USA  1981.0   \n",
       "6                     Death  2690  1983.0             USA  2001.0   \n",
       "7             Dream Theater  2329  1985.0             USA  1985.0   \n",
       "8             Black Sabbath  2307  1968.0  United Kingdom     NaN   \n",
       "9                 Nightwish  2183  1996.0         Finland  1996.0   \n",
       "10        Children Of Bodom  2153  1993.0         Finland     NaN   \n",
       "11             Judas Priest  2094  1969.0  United Kingdom  1969.0   \n",
       "12           Blind Guardian  2040  1984.0         Germany     NaN   \n",
       "13                In Flames  1932  1990.0          Sweden  1990.0   \n",
       "14                  Pantera  1920  1981.0             USA  2003.0   \n",
       "15        Dark Tranquillity  1898  1989.0          Sweden  1989.0   \n",
       "16                 Agalloch  1881  1995.0             USA  2016.0   \n",
       "17                Ensiferum  1879  1995.0         Finland  1995.0   \n",
       "18               Arch Enemy  1750  1996.0          Sweden     NaN   \n",
       "19                Katatonia  1735  1991.0          Sweden  1991.0   \n",
       "20                 Behemoth  1721  1991.0          Poland     NaN   \n",
       "21             Dimmu Borgir  1688  1993.0          Norway  1993.0   \n",
       "22                  Kreator  1646  1982.0         Germany     NaN   \n",
       "23                Wintersun  1640  2004.0         Finland  2004.0   \n",
       "24                Insomnium  1547  1997.0         Finland     NaN   \n",
       "25                 Amorphis  1528  1990.0         Finland  1990.0   \n",
       "26                  Kamelot  1520  1991.0             USA     NaN   \n",
       "27                     Tool  1506  1988.0             USA  1988.0   \n",
       "28                Helloween  1501  1978.0         Germany     NaN   \n",
       "29                Testament  1500  1983.0             USA  1983.0   \n",
       "...                     ...   ...     ...             ...     ...   \n",
       "4970     Your Chance To Die     1  2007.0             USA     NaN   \n",
       "4971    Your Tomorrow Alone     1  2009.0           Italy  2009.0   \n",
       "4972                   ?rec     1  2004.0  Czech Republic     NaN   \n",
       "4973                Ömheten     0  2012.0          Sweden  2012.0   \n",
       "4974             (In)Trance     0  2009.0          Russia     NaN   \n",
       "4975          6th Dimension     0  2008.0          Cyprus  2008.0   \n",
       "4976            9.7 Richter     0  2006.0         Romania     NaN   \n",
       "4977           A Lower Deep     0  2000.0             USA  2000.0   \n",
       "4978  Absence Of The Sacred     0  2005.0       Singapore     NaN   \n",
       "4979          Ace Of Hearts     0  2008.0  United Kingdom  2008.0   \n",
       "4980      Aeturnus Dominion     0  2003.0       Australia     NaN   \n",
       "4981       Algy Ward's Tank     0  2007.0  United Kingdom  2007.0   \n",
       "4982        Altars Of Grief     0  2013.0          Canada     NaN   \n",
       "4983               Anatomia     0  2002.0           Japan  2002.0   \n",
       "4984           Anger As Art     0  2004.0             USA     NaN   \n",
       "4985                 Angist     0  2009.0         Iceland  2009.0   \n",
       "4986                  Anmod     0  2005.0          Brazil     NaN   \n",
       "4987      Apokalyptic Raids     0  1997.0          Brazil  1997.0   \n",
       "4988             Apothesary     0  2009.0             USA     NaN   \n",
       "4989              Apparatus     0  2012.0         Denmark  2012.0   \n",
       "4990         Arctic Spirits     0  2003.0       Greenland     NaN   \n",
       "4991             Argus (Ro)     0  1996.0         Romania  1996.0   \n",
       "4992                 Arrest     0  1992.0         Germany     NaN   \n",
       "4993   As I Lay Dying (AUT)     0  1991.0         Austria  1991.0   \n",
       "4994                  Asofy     0  2000.0           Italy     NaN   \n",
       "4995                  Atara     0  2006.0          France  2006.0   \n",
       "4996             Avicularia     0  2003.0         Croatia     NaN   \n",
       "4997                  Awake     0  2006.0  United Kingdom  2006.0   \n",
       "4998                 Axatak     0  1983.0       Australia  1988.0   \n",
       "4999        Axis Of Despair     0  2014.0          Sweden  2014.0   \n",
       "\n",
       "                                                  style  \n",
       "0                       New wave of british heavy,Heavy  \n",
       "1      Extreme progressive,Progressive rock,Progressive  \n",
       "2                                 Heavy,Bay area thrash  \n",
       "3                                Thrash,Heavy,Hard rock  \n",
       "4                                         Melodic death  \n",
       "5                                                Thrash  \n",
       "6            Progressive death,Death,Progressive thrash  \n",
       "7                                           Progressive  \n",
       "8                                  Doom,Heavy,Hard rock  \n",
       "9                      Symphonic power,Gothic,Symphonic  \n",
       "10                                        Extreme power  \n",
       "11                                      Heavy,Hard rock  \n",
       "12                                          Power,Speed  \n",
       "13                               Gothenburg,Alternative  \n",
       "14                     Heavy,Groove thrash,Groove metal  \n",
       "15                                           Gothenburg  \n",
       "16                            Atmospheric black,Neofolk  \n",
       "17                                         Extreme folk  \n",
       "18                                           Gothenburg  \n",
       "19    Blackened doom,Death doom,Alternative rock,Got...  \n",
       "20                          Death,Black,Blackened death  \n",
       "21                                Symphonic black,Black  \n",
       "22                                      Teutonic thrash  \n",
       "23                                        Extreme power  \n",
       "24                                        Melodic death  \n",
       "25                 Death,Melodic death,Folk,Progressive  \n",
       "26                                      Symphonic power  \n",
       "27                              Progressive,Alternative  \n",
       "28                                          Speed,Power  \n",
       "29                                      Bay area thrash  \n",
       "...                                                 ...  \n",
       "4970                            Melodic death,Metalcore  \n",
       "4971                            Progressive doom,Gothic  \n",
       "4972                                         Pagan folk  \n",
       "4973                                   Depressive black  \n",
       "4974                                             Gothic  \n",
       "4975                            Alternative,Progressive  \n",
       "4976                                              Heavy  \n",
       "4977                           Progressive,Thrash,Power  \n",
       "4978                           Progressive death,Thrash  \n",
       "4979                                   Gothic,Hard rock  \n",
       "4980                                              Death  \n",
       "4981                                              Heavy  \n",
       "4982           Funeral doom,Death doom,Atmospheric doom  \n",
       "4983                                         Death,Doom  \n",
       "4984                                             Thrash  \n",
       "4985                                              Death  \n",
       "4986                                       Brutal death  \n",
       "4987                                              Black  \n",
       "4988                               Thrash,Melodic death  \n",
       "4989                                    Blackened death  \n",
       "4990                                    Heavy,Hard rock  \n",
       "4991                                              Black  \n",
       "4992                                    Hard rock,Heavy  \n",
       "4993                                 Death,Melodic doom  \n",
       "4994                                         Black,Doom  \n",
       "4995                                    Black,Grindcore  \n",
       "4996                                   Avantgarde death  \n",
       "4997                                  Heavy,Progressive  \n",
       "4998                                    Hard rock,Heavy  \n",
       "4999                                          Grindcore  \n",
       "\n",
       "[5000 rows x 6 columns]"
      ]
     },
     "execution_count": 4,
     "metadata": {},
     "output_type": "execute_result"
    }
   ],
   "source": [
    "import pandas as pd \n",
    "pd.read_csv('metal_bands_2017.csv', encoding='ISO-8859-1')"
   ]
  },
  {
   "cell_type": "markdown",
   "metadata": {},
   "source": [
    "# Creating a Spark session"
   ]
  },
  {
   "cell_type": "code",
   "execution_count": 5,
   "metadata": {},
   "outputs": [],
   "source": [
    "from pyspark.sql import SparkSession"
   ]
  },
  {
   "cell_type": "code",
   "execution_count": 6,
   "metadata": {},
   "outputs": [],
   "source": [
    "spark = SparkSession.builder.appName('Test').getOrCreate()"
   ]
  },
  {
   "cell_type": "code",
   "execution_count": 7,
   "metadata": {},
   "outputs": [
    {
     "data": {
      "text/html": [
       "\n",
       "            <div>\n",
       "                <p><b>SparkSession - in-memory</b></p>\n",
       "                \n",
       "        <div>\n",
       "            <p><b>SparkContext</b></p>\n",
       "\n",
       "            <p><a href=\"http://LFCN12833NS.gfoundries.com:4040\">Spark UI</a></p>\n",
       "\n",
       "            <dl>\n",
       "              <dt>Version</dt>\n",
       "                <dd><code>v3.3.0</code></dd>\n",
       "              <dt>Master</dt>\n",
       "                <dd><code>local[*]</code></dd>\n",
       "              <dt>AppName</dt>\n",
       "                <dd><code>Test</code></dd>\n",
       "            </dl>\n",
       "        </div>\n",
       "        \n",
       "            </div>\n",
       "        "
      ],
      "text/plain": [
       "<pyspark.sql.session.SparkSession at 0x28e0bb72d30>"
      ]
     },
     "execution_count": 7,
     "metadata": {},
     "output_type": "execute_result"
    }
   ],
   "source": [
    "spark"
   ]
  },
  {
   "cell_type": "markdown",
   "metadata": {},
   "source": [
    "# Reading the dataframe"
   ]
  },
  {
   "cell_type": "code",
   "execution_count": 8,
   "metadata": {},
   "outputs": [],
   "source": [
    "df = spark.read.csv('metal_bands_2017.csv')"
   ]
  },
  {
   "cell_type": "code",
   "execution_count": 9,
   "metadata": {},
   "outputs": [
    {
     "name": "stdout",
     "output_type": "stream",
     "text": [
      "+-----------------+----+------+--------------+-----+--------------------+\n",
      "|              _c0| _c1|   _c2|           _c3|  _c4|                 _c5|\n",
      "+-----------------+----+------+--------------+-----+--------------------+\n",
      "|        band_name|fans|formed|        origin|split|               style|\n",
      "|      Iron Maiden|4195|  1975|United Kingdom| null|New wave of briti...|\n",
      "|            Opeth|4147|  1990|        Sweden| 1990|Extreme progressi...|\n",
      "|        Metallica|3712|  1981|           USA| null|Heavy,Bay area th...|\n",
      "|         Megadeth|3105|  1983|           USA| 1983|Thrash,Heavy,Hard...|\n",
      "|      Amon Amarth|3054|  1988|        Sweden| null|       Melodic death|\n",
      "|           Slayer|2955|  1981|           USA| 1981|              Thrash|\n",
      "|            Death|2690|  1983|           USA| 2001|Progressive death...|\n",
      "|    Dream Theater|2329|  1985|           USA| 1985|         Progressive|\n",
      "|    Black Sabbath|2307|  1968|United Kingdom| null|Doom,Heavy,Hard rock|\n",
      "|        Nightwish|2183|  1996|       Finland| 1996|Symphonic power,G...|\n",
      "|Children Of Bodom|2153|  1993|       Finland| null|       Extreme power|\n",
      "|     Judas Priest|2094|  1969|United Kingdom| 1969|     Heavy,Hard rock|\n",
      "|   Blind Guardian|2040|  1984|       Germany| null|         Power,Speed|\n",
      "|        In Flames|1932|  1990|        Sweden| 1990|Gothenburg,Altern...|\n",
      "|          Pantera|1920|  1981|           USA| 2003|Heavy,Groove thra...|\n",
      "|Dark Tranquillity|1898|  1989|        Sweden| 1989|          Gothenburg|\n",
      "|         Agalloch|1881|  1995|           USA| 2016|Atmospheric black...|\n",
      "|        Ensiferum|1879|  1995|       Finland| 1995|        Extreme folk|\n",
      "|       Arch Enemy|1750|  1996|        Sweden| null|          Gothenburg|\n",
      "+-----------------+----+------+--------------+-----+--------------------+\n",
      "only showing top 20 rows\n",
      "\n"
     ]
    }
   ],
   "source": [
    "df.show()"
   ]
  },
  {
   "cell_type": "code",
   "execution_count": 10,
   "metadata": {},
   "outputs": [],
   "source": [
    "df_headers = spark.read.csv('metal_bands_2017.csv', inferSchema=True, header=True)"
   ]
  },
  {
   "cell_type": "markdown",
   "metadata": {},
   "source": [
    "# Methods to view and analyse the dataframe - show, printSchema, columns, head, dtypes"
   ]
  },
  {
   "cell_type": "code",
   "execution_count": 11,
   "metadata": {},
   "outputs": [
    {
     "name": "stdout",
     "output_type": "stream",
     "text": [
      "+-----------------+----+------+--------------+-----+--------------------+\n",
      "|        band_name|fans|formed|        origin|split|               style|\n",
      "+-----------------+----+------+--------------+-----+--------------------+\n",
      "|      Iron Maiden|4195|  1975|United Kingdom| null|New wave of briti...|\n",
      "|            Opeth|4147|  1990|        Sweden| 1990|Extreme progressi...|\n",
      "|        Metallica|3712|  1981|           USA| null|Heavy,Bay area th...|\n",
      "|         Megadeth|3105|  1983|           USA| 1983|Thrash,Heavy,Hard...|\n",
      "|      Amon Amarth|3054|  1988|        Sweden| null|       Melodic death|\n",
      "|           Slayer|2955|  1981|           USA| 1981|              Thrash|\n",
      "|            Death|2690|  1983|           USA| 2001|Progressive death...|\n",
      "|    Dream Theater|2329|  1985|           USA| 1985|         Progressive|\n",
      "|    Black Sabbath|2307|  1968|United Kingdom| null|Doom,Heavy,Hard rock|\n",
      "|        Nightwish|2183|  1996|       Finland| 1996|Symphonic power,G...|\n",
      "|Children Of Bodom|2153|  1993|       Finland| null|       Extreme power|\n",
      "|     Judas Priest|2094|  1969|United Kingdom| 1969|     Heavy,Hard rock|\n",
      "|   Blind Guardian|2040|  1984|       Germany| null|         Power,Speed|\n",
      "|        In Flames|1932|  1990|        Sweden| 1990|Gothenburg,Altern...|\n",
      "|          Pantera|1920|  1981|           USA| 2003|Heavy,Groove thra...|\n",
      "|Dark Tranquillity|1898|  1989|        Sweden| 1989|          Gothenburg|\n",
      "|         Agalloch|1881|  1995|           USA| 2016|Atmospheric black...|\n",
      "|        Ensiferum|1879|  1995|       Finland| 1995|        Extreme folk|\n",
      "|       Arch Enemy|1750|  1996|        Sweden| null|          Gothenburg|\n",
      "|        Katatonia|1735|  1991|        Sweden| 1991|Blackened doom,De...|\n",
      "+-----------------+----+------+--------------+-----+--------------------+\n",
      "only showing top 20 rows\n",
      "\n"
     ]
    }
   ],
   "source": [
    "df_headers.show()"
   ]
  },
  {
   "cell_type": "code",
   "execution_count": 12,
   "metadata": {},
   "outputs": [
    {
     "data": {
      "text/plain": [
       "pyspark.sql.dataframe.DataFrame"
      ]
     },
     "execution_count": 12,
     "metadata": {},
     "output_type": "execute_result"
    }
   ],
   "source": [
    "type(df_headers)"
   ]
  },
  {
   "cell_type": "code",
   "execution_count": 13,
   "metadata": {},
   "outputs": [
    {
     "name": "stdout",
     "output_type": "stream",
     "text": [
      "root\n",
      " |-- band_name: string (nullable = true)\n",
      " |-- fans: integer (nullable = true)\n",
      " |-- formed: integer (nullable = true)\n",
      " |-- origin: string (nullable = true)\n",
      " |-- split: integer (nullable = true)\n",
      " |-- style: string (nullable = true)\n",
      "\n"
     ]
    }
   ],
   "source": [
    "df_headers.printSchema()"
   ]
  },
  {
   "cell_type": "code",
   "execution_count": 14,
   "metadata": {},
   "outputs": [
    {
     "data": {
      "text/plain": [
       "['band_name', 'fans', 'formed', 'origin', 'split', 'style']"
      ]
     },
     "execution_count": 14,
     "metadata": {},
     "output_type": "execute_result"
    }
   ],
   "source": [
    "df_headers.columns"
   ]
  },
  {
   "cell_type": "code",
   "execution_count": 15,
   "metadata": {},
   "outputs": [
    {
     "data": {
      "text/plain": [
       "[Row(band_name='Iron Maiden', fans=4195, formed=1975, origin='United Kingdom', split=None, style='New wave of british heavy,Heavy'),\n",
       " Row(band_name='Opeth', fans=4147, formed=1990, origin='Sweden', split=1990, style='Extreme progressive,Progressive rock,Progressive'),\n",
       " Row(band_name='Metallica', fans=3712, formed=1981, origin='USA', split=None, style='Heavy,Bay area thrash'),\n",
       " Row(band_name='Megadeth', fans=3105, formed=1983, origin='USA', split=1983, style='Thrash,Heavy,Hard rock')]"
      ]
     },
     "execution_count": 15,
     "metadata": {},
     "output_type": "execute_result"
    }
   ],
   "source": [
    "df_headers.head(4)"
   ]
  },
  {
   "cell_type": "markdown",
   "metadata": {},
   "source": [
    "# Selecting specific columns from the dataframe"
   ]
  },
  {
   "cell_type": "code",
   "execution_count": 16,
   "metadata": {},
   "outputs": [],
   "source": [
    "df_band = df_headers.select(['band_name', 'fans'])"
   ]
  },
  {
   "cell_type": "code",
   "execution_count": 17,
   "metadata": {},
   "outputs": [
    {
     "name": "stdout",
     "output_type": "stream",
     "text": [
      "+-----------------+----+\n",
      "|        band_name|fans|\n",
      "+-----------------+----+\n",
      "|      Iron Maiden|4195|\n",
      "|            Opeth|4147|\n",
      "|        Metallica|3712|\n",
      "|         Megadeth|3105|\n",
      "|      Amon Amarth|3054|\n",
      "|           Slayer|2955|\n",
      "|            Death|2690|\n",
      "|    Dream Theater|2329|\n",
      "|    Black Sabbath|2307|\n",
      "|        Nightwish|2183|\n",
      "|Children Of Bodom|2153|\n",
      "|     Judas Priest|2094|\n",
      "|   Blind Guardian|2040|\n",
      "|        In Flames|1932|\n",
      "|          Pantera|1920|\n",
      "|Dark Tranquillity|1898|\n",
      "|         Agalloch|1881|\n",
      "|        Ensiferum|1879|\n",
      "|       Arch Enemy|1750|\n",
      "|        Katatonia|1735|\n",
      "+-----------------+----+\n",
      "only showing top 20 rows\n",
      "\n"
     ]
    }
   ],
   "source": [
    "df_band.show()"
   ]
  },
  {
   "cell_type": "code",
   "execution_count": 18,
   "metadata": {},
   "outputs": [
    {
     "data": {
      "text/plain": [
       "[('band_name', 'string'),\n",
       " ('fans', 'int'),\n",
       " ('formed', 'int'),\n",
       " ('origin', 'string'),\n",
       " ('split', 'int'),\n",
       " ('style', 'string')]"
      ]
     },
     "execution_count": 18,
     "metadata": {},
     "output_type": "execute_result"
    }
   ],
   "source": [
    "df_headers.dtypes"
   ]
  },
  {
   "cell_type": "code",
   "execution_count": 19,
   "metadata": {},
   "outputs": [
    {
     "name": "stdout",
     "output_type": "stream",
     "text": [
      "+-------+----------+-----------------+------------------+---------+------------------+--------------------+\n",
      "|summary| band_name|             fans|            formed|   origin|             split|               style|\n",
      "+-------+----------+-----------------+------------------+---------+------------------+--------------------+\n",
      "|  count|      5000|             5000|              4996|     4992|              2785|                5000|\n",
      "|   mean|    1349.0|          87.8058|2000.4165332265814|     null|2001.2394973070018|                null|\n",
      "| stddev|      null|296.1375234125429| 8.884580724252693|     null| 8.940119588290948|                null|\n",
      "|    min|!T.O.O.H.!|                0|              1964|  Albania|              1965|Aggrotech,Melodic...|\n",
      "|    max| �xx� X��x|             4195|              2016|Venezuela|              2016|Viking folk,Punk ...|\n",
      "+-------+----------+-----------------+------------------+---------+------------------+--------------------+\n",
      "\n"
     ]
    }
   ],
   "source": [
    "df_headers.describe().show()"
   ]
  },
  {
   "cell_type": "markdown",
   "metadata": {},
   "source": [
    "# Adding new columns "
   ]
  },
  {
   "cell_type": "code",
   "execution_count": 20,
   "metadata": {},
   "outputs": [],
   "source": [
    "df_new = df_headers.withColumn('Age', 2021 - df_headers['formed'])"
   ]
  },
  {
   "cell_type": "code",
   "execution_count": 21,
   "metadata": {},
   "outputs": [
    {
     "name": "stdout",
     "output_type": "stream",
     "text": [
      "+-----------------+----+------+--------------+-----+--------------------+---+\n",
      "|        band_name|fans|formed|        origin|split|               style|Age|\n",
      "+-----------------+----+------+--------------+-----+--------------------+---+\n",
      "|      Iron Maiden|4195|  1975|United Kingdom| null|New wave of briti...| 46|\n",
      "|            Opeth|4147|  1990|        Sweden| 1990|Extreme progressi...| 31|\n",
      "|        Metallica|3712|  1981|           USA| null|Heavy,Bay area th...| 40|\n",
      "|         Megadeth|3105|  1983|           USA| 1983|Thrash,Heavy,Hard...| 38|\n",
      "|      Amon Amarth|3054|  1988|        Sweden| null|       Melodic death| 33|\n",
      "|           Slayer|2955|  1981|           USA| 1981|              Thrash| 40|\n",
      "|            Death|2690|  1983|           USA| 2001|Progressive death...| 38|\n",
      "|    Dream Theater|2329|  1985|           USA| 1985|         Progressive| 36|\n",
      "|    Black Sabbath|2307|  1968|United Kingdom| null|Doom,Heavy,Hard rock| 53|\n",
      "|        Nightwish|2183|  1996|       Finland| 1996|Symphonic power,G...| 25|\n",
      "|Children Of Bodom|2153|  1993|       Finland| null|       Extreme power| 28|\n",
      "|     Judas Priest|2094|  1969|United Kingdom| 1969|     Heavy,Hard rock| 52|\n",
      "|   Blind Guardian|2040|  1984|       Germany| null|         Power,Speed| 37|\n",
      "|        In Flames|1932|  1990|        Sweden| 1990|Gothenburg,Altern...| 31|\n",
      "|          Pantera|1920|  1981|           USA| 2003|Heavy,Groove thra...| 40|\n",
      "|Dark Tranquillity|1898|  1989|        Sweden| 1989|          Gothenburg| 32|\n",
      "|         Agalloch|1881|  1995|           USA| 2016|Atmospheric black...| 26|\n",
      "|        Ensiferum|1879|  1995|       Finland| 1995|        Extreme folk| 26|\n",
      "|       Arch Enemy|1750|  1996|        Sweden| null|          Gothenburg| 25|\n",
      "|        Katatonia|1735|  1991|        Sweden| 1991|Blackened doom,De...| 30|\n",
      "+-----------------+----+------+--------------+-----+--------------------+---+\n",
      "only showing top 20 rows\n",
      "\n"
     ]
    }
   ],
   "source": [
    "df_new.show()"
   ]
  },
  {
   "cell_type": "markdown",
   "metadata": {},
   "source": [
    "# Renaming columns"
   ]
  },
  {
   "cell_type": "code",
   "execution_count": 22,
   "metadata": {},
   "outputs": [],
   "source": [
    "df_new = df_new.withColumnRenamed('Age', 'band_age')"
   ]
  },
  {
   "cell_type": "code",
   "execution_count": 23,
   "metadata": {},
   "outputs": [
    {
     "name": "stdout",
     "output_type": "stream",
     "text": [
      "+-----------------+----+------+--------------+-----+--------------------+--------+\n",
      "|        band_name|fans|formed|        origin|split|               style|band_age|\n",
      "+-----------------+----+------+--------------+-----+--------------------+--------+\n",
      "|      Iron Maiden|4195|  1975|United Kingdom| null|New wave of briti...|      46|\n",
      "|            Opeth|4147|  1990|        Sweden| 1990|Extreme progressi...|      31|\n",
      "|        Metallica|3712|  1981|           USA| null|Heavy,Bay area th...|      40|\n",
      "|         Megadeth|3105|  1983|           USA| 1983|Thrash,Heavy,Hard...|      38|\n",
      "|      Amon Amarth|3054|  1988|        Sweden| null|       Melodic death|      33|\n",
      "|           Slayer|2955|  1981|           USA| 1981|              Thrash|      40|\n",
      "|            Death|2690|  1983|           USA| 2001|Progressive death...|      38|\n",
      "|    Dream Theater|2329|  1985|           USA| 1985|         Progressive|      36|\n",
      "|    Black Sabbath|2307|  1968|United Kingdom| null|Doom,Heavy,Hard rock|      53|\n",
      "|        Nightwish|2183|  1996|       Finland| 1996|Symphonic power,G...|      25|\n",
      "|Children Of Bodom|2153|  1993|       Finland| null|       Extreme power|      28|\n",
      "|     Judas Priest|2094|  1969|United Kingdom| 1969|     Heavy,Hard rock|      52|\n",
      "|   Blind Guardian|2040|  1984|       Germany| null|         Power,Speed|      37|\n",
      "|        In Flames|1932|  1990|        Sweden| 1990|Gothenburg,Altern...|      31|\n",
      "|          Pantera|1920|  1981|           USA| 2003|Heavy,Groove thra...|      40|\n",
      "|Dark Tranquillity|1898|  1989|        Sweden| 1989|          Gothenburg|      32|\n",
      "|         Agalloch|1881|  1995|           USA| 2016|Atmospheric black...|      26|\n",
      "|        Ensiferum|1879|  1995|       Finland| 1995|        Extreme folk|      26|\n",
      "|       Arch Enemy|1750|  1996|        Sweden| null|          Gothenburg|      25|\n",
      "|        Katatonia|1735|  1991|        Sweden| 1991|Blackened doom,De...|      30|\n",
      "+-----------------+----+------+--------------+-----+--------------------+--------+\n",
      "only showing top 20 rows\n",
      "\n"
     ]
    }
   ],
   "source": [
    "df_new.show()"
   ]
  },
  {
   "cell_type": "code",
   "execution_count": 24,
   "metadata": {},
   "outputs": [],
   "source": [
    "df_new = df_new.withColumn('band_age', df_new.band_age.cast('Integer'))"
   ]
  },
  {
   "cell_type": "code",
   "execution_count": 25,
   "metadata": {},
   "outputs": [
    {
     "name": "stdout",
     "output_type": "stream",
     "text": [
      "root\n",
      " |-- band_name: string (nullable = true)\n",
      " |-- fans: integer (nullable = true)\n",
      " |-- formed: integer (nullable = true)\n",
      " |-- origin: string (nullable = true)\n",
      " |-- split: integer (nullable = true)\n",
      " |-- style: string (nullable = true)\n",
      " |-- band_age: integer (nullable = true)\n",
      "\n"
     ]
    }
   ],
   "source": [
    "df_new.printSchema()"
   ]
  },
  {
   "cell_type": "markdown",
   "metadata": {},
   "source": [
    "# Handling missing data with na.drop, na.fill methods"
   ]
  },
  {
   "cell_type": "code",
   "execution_count": 26,
   "metadata": {},
   "outputs": [
    {
     "name": "stdout",
     "output_type": "stream",
     "text": [
      "+-------+----------+------------------+------------------+-------------------+------------------+--------------------+-----------------+\n",
      "|summary| band_name|              fans|            formed|             origin|             split|               style|         band_age|\n",
      "+-------+----------+------------------+------------------+-------------------+------------------+--------------------+-----------------+\n",
      "|  count|      2782|              2782|              2782|               2782|              2782|                2782|             2782|\n",
      "|   mean|    1349.0| 87.72825305535586|2000.1376707404745|               null|2001.2264557872033|                null|20.86232925952552|\n",
      "| stddev|      null|294.33227630393714| 8.835267177670781|               null| 8.936093635078352|                null|8.835267177670767|\n",
      "|    min|!T.O.O.H.!|                 0|              1965|            Albania|              1965|Aggrotech,Melodic...|                5|\n",
      "|    max|�vangelist|              4147|              2016|United Kingdom, USA|              2016|   Viking folk,Power|               56|\n",
      "+-------+----------+------------------+------------------+-------------------+------------------+--------------------+-----------------+\n",
      "\n"
     ]
    }
   ],
   "source": [
    "df_new.na.drop().describe().show()"
   ]
  },
  {
   "cell_type": "code",
   "execution_count": 27,
   "metadata": {},
   "outputs": [
    {
     "name": "stdout",
     "output_type": "stream",
     "text": [
      "+-----------------+----+------+--------------+-----+--------------------+--------+\n",
      "|        band_name|fans|formed|        origin|split|               style|band_age|\n",
      "+-----------------+----+------+--------------+-----+--------------------+--------+\n",
      "|      Iron Maiden|4195|  1975|United Kingdom|    0|New wave of briti...|      46|\n",
      "|            Opeth|4147|  1990|        Sweden| 1990|Extreme progressi...|      31|\n",
      "|        Metallica|3712|  1981|           USA|    0|Heavy,Bay area th...|      40|\n",
      "|         Megadeth|3105|  1983|           USA| 1983|Thrash,Heavy,Hard...|      38|\n",
      "|      Amon Amarth|3054|  1988|        Sweden|    0|       Melodic death|      33|\n",
      "|           Slayer|2955|  1981|           USA| 1981|              Thrash|      40|\n",
      "|            Death|2690|  1983|           USA| 2001|Progressive death...|      38|\n",
      "|    Dream Theater|2329|  1985|           USA| 1985|         Progressive|      36|\n",
      "|    Black Sabbath|2307|  1968|United Kingdom|    0|Doom,Heavy,Hard rock|      53|\n",
      "|        Nightwish|2183|  1996|       Finland| 1996|Symphonic power,G...|      25|\n",
      "|Children Of Bodom|2153|  1993|       Finland|    0|       Extreme power|      28|\n",
      "|     Judas Priest|2094|  1969|United Kingdom| 1969|     Heavy,Hard rock|      52|\n",
      "|   Blind Guardian|2040|  1984|       Germany|    0|         Power,Speed|      37|\n",
      "|        In Flames|1932|  1990|        Sweden| 1990|Gothenburg,Altern...|      31|\n",
      "|          Pantera|1920|  1981|           USA| 2003|Heavy,Groove thra...|      40|\n",
      "|Dark Tranquillity|1898|  1989|        Sweden| 1989|          Gothenburg|      32|\n",
      "|         Agalloch|1881|  1995|           USA| 2016|Atmospheric black...|      26|\n",
      "|        Ensiferum|1879|  1995|       Finland| 1995|        Extreme folk|      26|\n",
      "|       Arch Enemy|1750|  1996|        Sweden|    0|          Gothenburg|      25|\n",
      "|        Katatonia|1735|  1991|        Sweden| 1991|Blackened doom,De...|      30|\n",
      "+-----------------+----+------+--------------+-----+--------------------+--------+\n",
      "only showing top 20 rows\n",
      "\n"
     ]
    }
   ],
   "source": [
    "df_new.na.fill(0, ['split']).show()"
   ]
  },
  {
   "cell_type": "markdown",
   "metadata": {},
   "source": [
    "# Handling missing data using imputer functions"
   ]
  },
  {
   "cell_type": "code",
   "execution_count": 28,
   "metadata": {},
   "outputs": [],
   "source": [
    "from pyspark.ml.feature import Imputer \n",
    "\n",
    "imputer = Imputer(\n",
    "    inputCols= ['split'],\n",
    "    outputCols= ['split_imputed']).setStrategy('mean')"
   ]
  },
  {
   "cell_type": "code",
   "execution_count": 29,
   "metadata": {},
   "outputs": [
    {
     "name": "stdout",
     "output_type": "stream",
     "text": [
      "+-----------------+----+------+--------------+-----+--------------------+--------+-------------+\n",
      "|        band_name|fans|formed|        origin|split|               style|band_age|split_imputed|\n",
      "+-----------------+----+------+--------------+-----+--------------------+--------+-------------+\n",
      "|      Iron Maiden|4195|  1975|United Kingdom| null|New wave of briti...|      46|         2001|\n",
      "|            Opeth|4147|  1990|        Sweden| 1990|Extreme progressi...|      31|         1990|\n",
      "|        Metallica|3712|  1981|           USA| null|Heavy,Bay area th...|      40|         2001|\n",
      "|         Megadeth|3105|  1983|           USA| 1983|Thrash,Heavy,Hard...|      38|         1983|\n",
      "|      Amon Amarth|3054|  1988|        Sweden| null|       Melodic death|      33|         2001|\n",
      "|           Slayer|2955|  1981|           USA| 1981|              Thrash|      40|         1981|\n",
      "|            Death|2690|  1983|           USA| 2001|Progressive death...|      38|         2001|\n",
      "|    Dream Theater|2329|  1985|           USA| 1985|         Progressive|      36|         1985|\n",
      "|    Black Sabbath|2307|  1968|United Kingdom| null|Doom,Heavy,Hard rock|      53|         2001|\n",
      "|        Nightwish|2183|  1996|       Finland| 1996|Symphonic power,G...|      25|         1996|\n",
      "|Children Of Bodom|2153|  1993|       Finland| null|       Extreme power|      28|         2001|\n",
      "|     Judas Priest|2094|  1969|United Kingdom| 1969|     Heavy,Hard rock|      52|         1969|\n",
      "|   Blind Guardian|2040|  1984|       Germany| null|         Power,Speed|      37|         2001|\n",
      "|        In Flames|1932|  1990|        Sweden| 1990|Gothenburg,Altern...|      31|         1990|\n",
      "|          Pantera|1920|  1981|           USA| 2003|Heavy,Groove thra...|      40|         2003|\n",
      "|Dark Tranquillity|1898|  1989|        Sweden| 1989|          Gothenburg|      32|         1989|\n",
      "|         Agalloch|1881|  1995|           USA| 2016|Atmospheric black...|      26|         2016|\n",
      "|        Ensiferum|1879|  1995|       Finland| 1995|        Extreme folk|      26|         1995|\n",
      "|       Arch Enemy|1750|  1996|        Sweden| null|          Gothenburg|      25|         2001|\n",
      "|        Katatonia|1735|  1991|        Sweden| 1991|Blackened doom,De...|      30|         1991|\n",
      "+-----------------+----+------+--------------+-----+--------------------+--------+-------------+\n",
      "only showing top 20 rows\n",
      "\n"
     ]
    }
   ],
   "source": [
    "imputer.fit(df_new).transform(df_new).show()"
   ]
  },
  {
   "cell_type": "markdown",
   "metadata": {},
   "source": [
    "# Filtering data with &, |, ~ operators"
   ]
  },
  {
   "cell_type": "code",
   "execution_count": 30,
   "metadata": {},
   "outputs": [
    {
     "name": "stdout",
     "output_type": "stream",
     "text": [
      "+-----------------+----+------+-------+-----+--------------------+--------+\n",
      "|        band_name|fans|formed| origin|split|               style|band_age|\n",
      "+-----------------+----+------+-------+-----+--------------------+--------+\n",
      "|            Opeth|4147|  1990| Sweden| 1990|Extreme progressi...|      31|\n",
      "|        Nightwish|2183|  1996|Finland| 1996|Symphonic power,G...|      25|\n",
      "|Children Of Bodom|2153|  1993|Finland| null|       Extreme power|      28|\n",
      "|            Opeth|4147|  1990| Sweden| 1990|Extreme progressi...|      31|\n",
      "|        Nightwish|2183|  1996|Finland| 1996|Symphonic power,G...|      25|\n",
      "|Children Of Bodom|2153|  1993|Finland| null|       Extreme power|      28|\n",
      "+-----------------+----+------+-------+-----+--------------------+--------+\n",
      "\n"
     ]
    }
   ],
   "source": [
    "df_new.filter((df_new['fans'] >= 2000) & (df_new['formed'] >= 1990)).show()"
   ]
  },
  {
   "cell_type": "markdown",
   "metadata": {},
   "source": [
    "# Aggregate and GroupBy functions"
   ]
  },
  {
   "cell_type": "code",
   "execution_count": 31,
   "metadata": {},
   "outputs": [
    {
     "name": "stdout",
     "output_type": "stream",
     "text": [
      "+------+---------+\n",
      "|formed|sum(fans)|\n",
      "+------+---------+\n",
      "|  1990|    31924|\n",
      "|  1975|     9807|\n",
      "|  1977|      511|\n",
      "|  2003|     9642|\n",
      "|  2007|     6593|\n",
      "|  1974|       74|\n",
      "|  2015|      378|\n",
      "|  2006|     6032|\n",
      "|  1978|     4319|\n",
      "|  2013|     1406|\n",
      "|  null|        5|\n",
      "|  1988|    17924|\n",
      "|  1997|    11635|\n",
      "|  1994|    13907|\n",
      "|  1968|     7763|\n",
      "|  2014|      696|\n",
      "|  1973|      985|\n",
      "|  1979|     2241|\n",
      "|  1971|      124|\n",
      "|  2004|    13418|\n",
      "+------+---------+\n",
      "only showing top 20 rows\n",
      "\n"
     ]
    }
   ],
   "source": [
    "df_new.groupBy('formed').sum('fans').show()"
   ]
  },
  {
   "cell_type": "code",
   "execution_count": 32,
   "metadata": {},
   "outputs": [
    {
     "name": "stdout",
     "output_type": "stream",
     "text": [
      "+---------+\n",
      "|sum(fans)|\n",
      "+---------+\n",
      "|   439029|\n",
      "+---------+\n",
      "\n"
     ]
    }
   ],
   "source": [
    "df_new.agg({'fans':'sum'}).show()"
   ]
  },
  {
   "cell_type": "markdown",
   "metadata": {},
   "source": [
    "# Introduction to mlib"
   ]
  },
  {
   "cell_type": "markdown",
   "metadata": {},
   "source": [
    "# Using VectorAssembler to form a separate feature which contains all independent features"
   ]
  },
  {
   "cell_type": "code",
   "execution_count": 42,
   "metadata": {},
   "outputs": [
    {
     "name": "stdout",
     "output_type": "stream",
     "text": [
      "+-----------------+----+------+--------------+-----+--------------------+--------+-------------+\n",
      "|        band_name|fans|formed|        origin|split|               style|band_age|indep_feature|\n",
      "+-----------------+----+------+--------------+-----+--------------------+--------+-------------+\n",
      "|      Iron Maiden|4195|  1975|United Kingdom| null|New wave of briti...|      46|     [1975.0]|\n",
      "|            Opeth|4147|  1990|        Sweden| 1990|Extreme progressi...|      31|     [1990.0]|\n",
      "|        Metallica|3712|  1981|           USA| null|Heavy,Bay area th...|      40|     [1981.0]|\n",
      "|         Megadeth|3105|  1983|           USA| 1983|Thrash,Heavy,Hard...|      38|     [1983.0]|\n",
      "|      Amon Amarth|3054|  1988|        Sweden| null|       Melodic death|      33|     [1988.0]|\n",
      "|           Slayer|2955|  1981|           USA| 1981|              Thrash|      40|     [1981.0]|\n",
      "|            Death|2690|  1983|           USA| 2001|Progressive death...|      38|     [1983.0]|\n",
      "|    Dream Theater|2329|  1985|           USA| 1985|         Progressive|      36|     [1985.0]|\n",
      "|    Black Sabbath|2307|  1968|United Kingdom| null|Doom,Heavy,Hard rock|      53|     [1968.0]|\n",
      "|        Nightwish|2183|  1996|       Finland| 1996|Symphonic power,G...|      25|     [1996.0]|\n",
      "|Children Of Bodom|2153|  1993|       Finland| null|       Extreme power|      28|     [1993.0]|\n",
      "|     Judas Priest|2094|  1969|United Kingdom| 1969|     Heavy,Hard rock|      52|     [1969.0]|\n",
      "|   Blind Guardian|2040|  1984|       Germany| null|         Power,Speed|      37|     [1984.0]|\n",
      "|        In Flames|1932|  1990|        Sweden| 1990|Gothenburg,Altern...|      31|     [1990.0]|\n",
      "|          Pantera|1920|  1981|           USA| 2003|Heavy,Groove thra...|      40|     [1981.0]|\n",
      "|Dark Tranquillity|1898|  1989|        Sweden| 1989|          Gothenburg|      32|     [1989.0]|\n",
      "|         Agalloch|1881|  1995|           USA| 2016|Atmospheric black...|      26|     [1995.0]|\n",
      "|        Ensiferum|1879|  1995|       Finland| 1995|        Extreme folk|      26|     [1995.0]|\n",
      "|       Arch Enemy|1750|  1996|        Sweden| null|          Gothenburg|      25|     [1996.0]|\n",
      "|        Katatonia|1735|  1991|        Sweden| 1991|Blackened doom,De...|      30|     [1991.0]|\n",
      "+-----------------+----+------+--------------+-----+--------------------+--------+-------------+\n",
      "only showing top 20 rows\n",
      "\n"
     ]
    }
   ],
   "source": [
    "from pyspark.ml.feature import VectorAssembler\n",
    "assembler = VectorAssembler(inputCols = ['formed'], outputCol = 'indep_feature').setHandleInvalid(\"skip\").transform(df_new)\n",
    "assembler.show()"
   ]
  },
  {
   "cell_type": "code",
   "execution_count": 43,
   "metadata": {},
   "outputs": [
    {
     "name": "stdout",
     "output_type": "stream",
     "text": [
      "+-------------+----+\n",
      "|indep_feature|fans|\n",
      "+-------------+----+\n",
      "|     [1975.0]|4195|\n",
      "|     [1990.0]|4147|\n",
      "|     [1981.0]|3712|\n",
      "|     [1983.0]|3105|\n",
      "|     [1988.0]|3054|\n",
      "|     [1981.0]|2955|\n",
      "|     [1983.0]|2690|\n",
      "|     [1985.0]|2329|\n",
      "|     [1968.0]|2307|\n",
      "|     [1996.0]|2183|\n",
      "|     [1993.0]|2153|\n",
      "|     [1969.0]|2094|\n",
      "|     [1984.0]|2040|\n",
      "|     [1990.0]|1932|\n",
      "|     [1981.0]|1920|\n",
      "|     [1989.0]|1898|\n",
      "|     [1995.0]|1881|\n",
      "|     [1995.0]|1879|\n",
      "|     [1996.0]|1750|\n",
      "|     [1991.0]|1735|\n",
      "+-------------+----+\n",
      "only showing top 20 rows\n",
      "\n"
     ]
    }
   ],
   "source": [
    "final_df = assembler.select(['indep_feature', 'fans'])\n",
    "final_df.show()"
   ]
  },
  {
   "cell_type": "markdown",
   "metadata": {},
   "source": [
    "# Performing Linear Regression"
   ]
  },
  {
   "cell_type": "code",
   "execution_count": 49,
   "metadata": {},
   "outputs": [],
   "source": [
    "from pyspark.ml.regression import LinearRegression\n",
    "train_data, test_data = final_df.randomSplit([0.75, 0.25])\n",
    "model = LinearRegression(featuresCol = 'indep_feature', labelCol = 'fans').fit(train_data)"
   ]
  },
  {
   "cell_type": "code",
   "execution_count": 50,
   "metadata": {},
   "outputs": [
    {
     "data": {
      "text/plain": [
       "DenseVector([-10.2388])"
      ]
     },
     "execution_count": 50,
     "metadata": {},
     "output_type": "execute_result"
    }
   ],
   "source": [
    "model.coefficients"
   ]
  },
  {
   "cell_type": "code",
   "execution_count": 51,
   "metadata": {},
   "outputs": [
    {
     "data": {
      "text/plain": [
       "20572.78936656438"
      ]
     },
     "execution_count": 51,
     "metadata": {},
     "output_type": "execute_result"
    }
   ],
   "source": [
    "model.intercept"
   ]
  },
  {
   "cell_type": "code",
   "execution_count": 52,
   "metadata": {},
   "outputs": [],
   "source": [
    "preds = model.evaluate(test_data)"
   ]
  },
  {
   "cell_type": "code",
   "execution_count": 53,
   "metadata": {},
   "outputs": [
    {
     "name": "stdout",
     "output_type": "stream",
     "text": [
      "+-------------+----+------------------+\n",
      "|indep_feature|fans|        prediction|\n",
      "+-------------+----+------------------+\n",
      "|     [1964.0]| 362|463.70094977358895|\n",
      "|     [1965.0]| 519|453.46210638418415|\n",
      "|     [1967.0]|  26|432.98441960537457|\n",
      "|     [1968.0]|  13| 422.7455762159734|\n",
      "|     [1968.0]| 714| 422.7455762159734|\n",
      "|     [1969.0]| 162| 412.5067328265686|\n",
      "|     [1970.0]|  64|402.26788943716383|\n",
      "|     [1971.0]| 124|392.02904604775904|\n",
      "|     [1972.0]| 262|381.79020265835425|\n",
      "|     [1973.0]|   7|371.55135926894945|\n",
      "|     [1973.0]|  53|371.55135926894945|\n",
      "|     [1974.0]|   4|361.31251587954466|\n",
      "|     [1974.0]|  11|361.31251587954466|\n",
      "|     [1975.0]|   1|351.07367249013987|\n",
      "|     [1975.0]| 497|351.07367249013987|\n",
      "|     [1975.0]| 875|351.07367249013987|\n",
      "|     [1975.0]|4195|351.07367249013987|\n",
      "|     [1976.0]|   5| 340.8348291007351|\n",
      "|     [1976.0]|  15| 340.8348291007351|\n",
      "|     [1976.0]|  17| 340.8348291007351|\n",
      "+-------------+----+------------------+\n",
      "only showing top 20 rows\n",
      "\n"
     ]
    }
   ],
   "source": [
    "preds.predictions.show()"
   ]
  },
  {
   "cell_type": "code",
   "execution_count": 54,
   "metadata": {},
   "outputs": [
    {
     "data": {
      "text/plain": [
       "113.84944126052812"
      ]
     },
     "execution_count": 54,
     "metadata": {},
     "output_type": "execute_result"
    }
   ],
   "source": [
    "preds.meanAbsoluteError"
   ]
  },
  {
   "cell_type": "code",
   "execution_count": 55,
   "metadata": {},
   "outputs": [
    {
     "data": {
      "text/plain": [
       "62010.75748265654"
      ]
     },
     "execution_count": 55,
     "metadata": {},
     "output_type": "execute_result"
    }
   ],
   "source": [
    "preds.meanSquaredError"
   ]
  },
  {
   "cell_type": "code",
   "execution_count": null,
   "metadata": {},
   "outputs": [],
   "source": []
  }
 ],
 "metadata": {
  "kernelspec": {
   "display_name": "Python 3",
   "language": "python",
   "name": "python3"
  },
  "language_info": {
   "codemirror_mode": {
    "name": "ipython",
    "version": 3
   },
   "file_extension": ".py",
   "mimetype": "text/x-python",
   "name": "python",
   "nbconvert_exporter": "python",
   "pygments_lexer": "ipython3",
   "version": "3.7.3"
  }
 },
 "nbformat": 4,
 "nbformat_minor": 4
}
